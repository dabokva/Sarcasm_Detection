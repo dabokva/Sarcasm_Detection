{
 "cells": [
  {
   "cell_type": "markdown",
   "metadata": {},
   "source": [
    "# Modelling"
   ]
  },
  {
   "cell_type": "markdown",
   "metadata": {},
   "source": [
    "## Import"
   ]
  },
  {
   "cell_type": "code",
   "execution_count": 15,
   "metadata": {},
   "outputs": [],
   "source": [
    "import tensorflow as tf\n",
    "from keras import models, losses, optimizers, metrics\n",
    "from keras.layers import Dense, LSTM, Embedding\n",
    "from keras.callbacks import EarlyStopping\n",
    "import gc\n",
    "\n",
    "%run ../scripts/save_utils.py"
   ]
  },
  {
   "cell_type": "markdown",
   "metadata": {},
   "source": [
    "## Data load"
   ]
  },
  {
   "cell_type": "code",
   "execution_count": 18,
   "metadata": {},
   "outputs": [],
   "source": [
    "x_train, y_train, x_val, y_val, x_test, y_test  = load_data('../save_files/processed_data.pkl')\n",
    "headline_tokenizer = load_data('../save_files/tokenizer.pkl')"
   ]
  },
  {
   "cell_type": "markdown",
   "metadata": {},
   "source": [
    "## Baseline model"
   ]
  },
  {
   "cell_type": "markdown",
   "metadata": {},
   "source": [
    "To start things off, we need to train and evaluate a baseline model to have a bottom threshold of performance."
   ]
  },
  {
   "cell_type": "code",
   "execution_count": 19,
   "metadata": {},
   "outputs": [],
   "source": [
    "vocab_size = len(headline_tokenizer.word_index) + 1\n",
    "max_len = x_train.shape[1]\n",
    "\n",
    "stop_early = EarlyStopping(monitor='val_loss', patience=5)"
   ]
  },
  {
   "cell_type": "code",
   "execution_count": null,
   "metadata": {},
   "outputs": [],
   "source": [
    "base_classifier = models.Sequential()\n",
    "base_classifier.add(Embedding(input_dim=vocab_size, output_dim=128, input_length=max_len))\n",
    "base_classifier.add(LSTM(units=128))\n",
    "base_classifier.add(Dense(16, activation='relu'))\n",
    "base_classifier.add(Dense(1, activation='sigmoid'))\n",
    "base_classifier.compile(optimizer=optimizers.RMSprop(lr=0.0005),\n",
    "                        loss=losses.binary_crossentropy, metrics=[metrics.binary_accuracy])\n",
    "\n",
    "base_classifier.fit(x_train, y_train, batch_size=64, epochs=50, validation_data=(x_val, y_val), verbose='auto', callbacks=[stop_early])"
   ]
  },
  {
   "cell_type": "code",
   "execution_count": null,
   "metadata": {},
   "outputs": [],
   "source": [
    "baseline_results = base_classifier.evaluate(x_val, y_val, return_dict=True)\n",
    "print('baseline loss:     ', baseline_results['loss'])\n",
    "print('baseline accuracy: ', baseline_results['binary_accuracy'])"
   ]
  },
  {
   "cell_type": "code",
   "execution_count": 21,
   "metadata": {},
   "outputs": [
    {
     "data": {
      "text/plain": [
       "24410"
      ]
     },
     "execution_count": 21,
     "metadata": {},
     "output_type": "execute_result"
    }
   ],
   "source": [
    "gc.collect()"
   ]
  }
 ],
 "metadata": {
  "kernelspec": {
   "display_name": "tensorflow-tuner",
   "language": "python",
   "name": "python3"
  },
  "language_info": {
   "codemirror_mode": {
    "name": "ipython",
    "version": 3
   },
   "file_extension": ".py",
   "mimetype": "text/x-python",
   "name": "python",
   "nbconvert_exporter": "python",
   "pygments_lexer": "ipython3",
   "version": "3.10.0"
  }
 },
 "nbformat": 4,
 "nbformat_minor": 2
}
