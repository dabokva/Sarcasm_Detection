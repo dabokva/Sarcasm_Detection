{
 "cells": [
  {
   "cell_type": "markdown",
   "metadata": {},
   "source": [
    "# Modelling"
   ]
  },
  {
   "cell_type": "markdown",
   "metadata": {},
   "source": [
    "## Import"
   ]
  },
  {
   "cell_type": "code",
   "execution_count": 7,
   "metadata": {},
   "outputs": [],
   "source": [
    "import tensorflow as tf\n",
    "from keras import models, losses, optimizers, metrics\n",
    "from keras.layers import Dense, LSTM, Embedding\n",
    "from keras.callbacks import EarlyStopping\n",
    "import gc\n",
    "\n",
    "from sklearn.preprocessing import Normalizer\n",
    "\n",
    "%run ../scripts/save_utils.py"
   ]
  },
  {
   "cell_type": "markdown",
   "metadata": {},
   "source": [
    "## Data load"
   ]
  },
  {
   "cell_type": "code",
   "execution_count": 8,
   "metadata": {},
   "outputs": [],
   "source": [
    "x_train, y_train, x_val, y_val, x_test, y_test  = load_data('../save_files/processed_data.pkl')\n",
    "headline_tokenizer = load_data('../save_files/tokenizer.pkl')"
   ]
  },
  {
   "cell_type": "code",
   "execution_count": 9,
   "metadata": {},
   "outputs": [],
   "source": [
    "norm = Normalizer()\n",
    "x_train_norm = norm.fit_transform(x_train)\n",
    "x_val_norm = norm.transform(x_val)"
   ]
  },
  {
   "cell_type": "markdown",
   "metadata": {},
   "source": [
    "## Baseline model"
   ]
  },
  {
   "cell_type": "markdown",
   "metadata": {},
   "source": [
    "To start things off, we need to train and evaluate a baseline model to have a bottom threshold of performance."
   ]
  },
  {
   "cell_type": "code",
   "execution_count": 10,
   "metadata": {},
   "outputs": [],
   "source": [
    "vocab_size = len(headline_tokenizer.word_index) + 1\n",
    "max_len = x_train.shape[1]\n",
    "\n",
    "stop_early = EarlyStopping(monitor='val_loss', patience=5, verbose=1)"
   ]
  },
  {
   "cell_type": "code",
   "execution_count": 11,
   "metadata": {},
   "outputs": [
    {
     "name": "stdout",
     "output_type": "stream",
     "text": [
      "Epoch 1/50\n"
     ]
    },
    {
     "name": "stderr",
     "output_type": "stream",
     "text": [
      "d:\\Miniforge\\envs\\tensorflow-tuner\\lib\\site-packages\\keras\\optimizers\\optimizer_v2\\rmsprop.py:140: UserWarning: The `lr` argument is deprecated, use `learning_rate` instead.\n",
      "  super().__init__(name, **kwargs)\n"
     ]
    },
    {
     "name": "stdout",
     "output_type": "stream",
     "text": [
      "269/269 - 18s - loss: 0.6928 - binary_accuracy: 0.5208 - val_loss: 0.6922 - val_binary_accuracy: 0.5236 - 18s/epoch - 67ms/step\n",
      "Epoch 2/50\n",
      "269/269 - 6s - loss: 0.6921 - binary_accuracy: 0.5236 - val_loss: 0.6921 - val_binary_accuracy: 0.5236 - 6s/epoch - 23ms/step\n",
      "Epoch 3/50\n",
      "269/269 - 7s - loss: 0.6921 - binary_accuracy: 0.5236 - val_loss: 0.6920 - val_binary_accuracy: 0.5236 - 7s/epoch - 24ms/step\n",
      "Epoch 4/50\n",
      "269/269 - 6s - loss: 0.6921 - binary_accuracy: 0.5236 - val_loss: 0.6920 - val_binary_accuracy: 0.5236 - 6s/epoch - 23ms/step\n",
      "Epoch 5/50\n",
      "269/269 - 6s - loss: 0.6921 - binary_accuracy: 0.5236 - val_loss: 0.6920 - val_binary_accuracy: 0.5236 - 6s/epoch - 23ms/step\n",
      "Epoch 6/50\n",
      "269/269 - 6s - loss: 0.6921 - binary_accuracy: 0.5236 - val_loss: 0.6921 - val_binary_accuracy: 0.5236 - 6s/epoch - 23ms/step\n",
      "Epoch 7/50\n",
      "269/269 - 6s - loss: 0.6921 - binary_accuracy: 0.5236 - val_loss: 0.6920 - val_binary_accuracy: 0.5236 - 6s/epoch - 23ms/step\n",
      "Epoch 8/50\n",
      "269/269 - 6s - loss: 0.6921 - binary_accuracy: 0.5236 - val_loss: 0.6920 - val_binary_accuracy: 0.5236 - 6s/epoch - 23ms/step\n",
      "Epoch 9/50\n",
      "269/269 - 6s - loss: 0.6921 - binary_accuracy: 0.5236 - val_loss: 0.6920 - val_binary_accuracy: 0.5236 - 6s/epoch - 24ms/step\n",
      "Epoch 10/50\n",
      "269/269 - 6s - loss: 0.6921 - binary_accuracy: 0.5236 - val_loss: 0.6920 - val_binary_accuracy: 0.5236 - 6s/epoch - 24ms/step\n",
      "Epoch 11/50\n",
      "269/269 - 6s - loss: 0.6921 - binary_accuracy: 0.5236 - val_loss: 0.6920 - val_binary_accuracy: 0.5236 - 6s/epoch - 24ms/step\n",
      "Epoch 12/50\n",
      "269/269 - 6s - loss: 0.6921 - binary_accuracy: 0.5236 - val_loss: 0.6920 - val_binary_accuracy: 0.5236 - 6s/epoch - 24ms/step\n",
      "Epoch 13/50\n",
      "269/269 - 6s - loss: 0.6921 - binary_accuracy: 0.5236 - val_loss: 0.6921 - val_binary_accuracy: 0.5236 - 6s/epoch - 24ms/step\n",
      "Epoch 13: early stopping\n"
     ]
    },
    {
     "data": {
      "text/plain": [
       "<keras.callbacks.History at 0x270086e7cd0>"
      ]
     },
     "execution_count": 11,
     "metadata": {},
     "output_type": "execute_result"
    }
   ],
   "source": [
    "base_classifier = models.Sequential()\n",
    "base_classifier.add(Embedding(input_dim=vocab_size, output_dim=128, input_length=max_len))\n",
    "base_classifier.add(LSTM(units=128))\n",
    "base_classifier.add(Dense(64, activation='relu'))\n",
    "base_classifier.add(Dense(16, activation='relu'))\n",
    "base_classifier.add(Dense(1, activation='sigmoid'))\n",
    "base_classifier.compile(optimizer=optimizers.RMSprop(lr=0.002),\n",
    "                        loss=losses.binary_crossentropy, metrics=[metrics.binary_accuracy])\n",
    "\n",
    "base_classifier.fit(x_train_norm, y_train, batch_size=64, epochs=50, validation_data=(x_val_norm, y_val), verbose=2, callbacks=[stop_early])"
   ]
  },
  {
   "cell_type": "code",
   "execution_count": 12,
   "metadata": {},
   "outputs": [
    {
     "name": "stdout",
     "output_type": "stream",
     "text": [
      "179/179 [==============================] - 2s 8ms/step - loss: 0.6921 - binary_accuracy: 0.5236\n",
      "baseline loss:      0.6920647025108337\n",
      "baseline accuracy:  0.5235849022865295\n"
     ]
    }
   ],
   "source": [
    "baseline_results = base_classifier.evaluate(x_val, y_val, return_dict=True)\n",
    "print('baseline loss:     ', baseline_results['loss'])\n",
    "print('baseline accuracy: ', baseline_results['binary_accuracy'])"
   ]
  },
  {
   "cell_type": "code",
   "execution_count": 13,
   "metadata": {},
   "outputs": [
    {
     "data": {
      "text/plain": [
       "5506"
      ]
     },
     "execution_count": 13,
     "metadata": {},
     "output_type": "execute_result"
    }
   ],
   "source": [
    "gc.collect()"
   ]
  }
 ],
 "metadata": {
  "kernelspec": {
   "display_name": "tensorflow-tuner",
   "language": "python",
   "name": "python3"
  },
  "language_info": {
   "codemirror_mode": {
    "name": "ipython",
    "version": 3
   },
   "file_extension": ".py",
   "mimetype": "text/x-python",
   "name": "python",
   "nbconvert_exporter": "python",
   "pygments_lexer": "ipython3",
   "version": "3.9.19"
  }
 },
 "nbformat": 4,
 "nbformat_minor": 2
}
