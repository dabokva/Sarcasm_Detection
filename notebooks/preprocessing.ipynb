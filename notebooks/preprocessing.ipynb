{
 "cells": [
  {
   "cell_type": "code",
   "execution_count": null,
   "metadata": {},
   "outputs": [],
   "source": [
    "# Experimental\n",
    "\n",
    "'''import pickle\n",
    "%run ../scripts/save_utils.py\n",
    "\n",
    "df_cleaned = load_data('../save_files/df_clean.pkl')\n",
    "print(df_cleaned)'''"
   ]
  }
 ],
 "metadata": {
  "language_info": {
   "name": "python"
  }
 },
 "nbformat": 4,
 "nbformat_minor": 2
}
