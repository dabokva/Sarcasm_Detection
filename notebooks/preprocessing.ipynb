{
 "cells": [
  {
   "cell_type": "markdown",
   "metadata": {},
   "source": [
    "# Preprocessing"
   ]
  },
  {
   "cell_type": "markdown",
   "metadata": {},
   "source": [
    "## Import"
   ]
  },
  {
   "cell_type": "code",
   "execution_count": 60,
   "metadata": {},
   "outputs": [],
   "source": [
    "from sklearn.model_selection import train_test_split\n",
    "import matplotlib.pyplot as plt\n",
    "\n",
    "%run ../scripts/save_utils.py"
   ]
  },
  {
   "cell_type": "markdown",
   "metadata": {},
   "source": [
    "## Cleaning"
   ]
  },
  {
   "cell_type": "markdown",
   "metadata": {},
   "source": [
    "First of all, let's look at the dataset again:"
   ]
  },
  {
   "cell_type": "code",
   "execution_count": 61,
   "metadata": {},
   "outputs": [],
   "source": [
    "df = load_data('../save_files/df.pkl')"
   ]
  },
  {
   "cell_type": "markdown",
   "metadata": {},
   "source": [
    "We don't really need the links to the article since I'm not going to extract any additional information, so it makes sense to delete this column:"
   ]
  },
  {
   "cell_type": "code",
   "execution_count": 62,
   "metadata": {},
   "outputs": [
    {
     "name": "stdout",
     "output_type": "stream",
     "text": [
      "All variables have been successfully saved to ../save_files/df.pkl.\n"
     ]
    }
   ],
   "source": [
    "df.drop('article_link', axis=1, inplace=True)\n",
    "save_data('../save_files/df.pkl', df)"
   ]
  },
  {
   "cell_type": "markdown",
   "metadata": {},
   "source": [
    "## Tokenization"
   ]
  },
  {
   "cell_type": "markdown",
   "metadata": {},
   "source": [
    "Since the data is good as is, we jump straight up to the tokenization."
   ]
  },
  {
   "cell_type": "code",
   "execution_count": 63,
   "metadata": {},
   "outputs": [],
   "source": [
    "from keras.preprocessing.text import Tokenizer\n",
    "from keras.preprocessing.sequence import pad_sequences"
   ]
  },
  {
   "cell_type": "code",
   "execution_count": 64,
   "metadata": {},
   "outputs": [],
   "source": [
    "headline_tokenizer = Tokenizer()\n",
    "headline_tokenizer.fit_on_texts(df['headline'])\n",
    "data_vocabulary = headline_tokenizer.word_counts"
   ]
  },
  {
   "cell_type": "markdown",
   "metadata": {},
   "source": [
    "Let's plot the top-10 most occuring words:"
   ]
  },
  {
   "cell_type": "code",
   "execution_count": 65,
   "metadata": {},
   "outputs": [
    {
     "data": {
      "image/png": "[encoded data removed]",
      "text/plain": [
       "<Figure size 1000x600 with 1 Axes>"
      ]
     },
     "metadata": {},
     "output_type": "display_data"
    }
   ],
   "source": [
    "df_dict_sorted = sorted(data_vocabulary.items(), key=lambda x: x[1])\n",
    "most_words = [x for x, y in df_dict_sorted[-20:]]\n",
    "most_indices = [y for x, y in df_dict_sorted[-20:]]\n",
    "\n",
    "plt.figure(figsize=(10, 6))\n",
    "plt.bar(most_words, most_indices, color='mediumpurple')\n",
    "plt.xticks(rotation=45)\n",
    "plt.grid(axis='y')\n",
    "plt.show();"
   ]
  },
  {
   "cell_type": "markdown",
   "metadata": {},
   "source": [
    "## Splitting the data"
   ]
  },
  {
   "cell_type": "markdown",
   "metadata": {},
   "source": [
    "Before we actualy tokenize the data, we need to split it into train, validation and test sets:"
   ]
  },
  {
   "cell_type": "code",
   "execution_count": 66,
   "metadata": {},
   "outputs": [],
   "source": [
    "x_temp, x_test, y_temp, y_test = train_test_split(df['headline'], df['is_sarcastic'],\n",
    "                                                  test_size=0.2, stratify=df['is_sarcastic'],\n",
    "                                                  shuffle=True, random_state=73)"
   ]
  },
  {
   "cell_type": "code",
   "execution_count": 67,
   "metadata": {},
   "outputs": [],
   "source": [
    "x_train, x_val, y_train, y_val = train_test_split(x_temp, y_temp,\n",
    "                                                  test_size=0.25, stratify=y_temp,\n",
    "                                                  shuffle=True, random_state=73)"
   ]
  },
  {
   "cell_type": "markdown",
   "metadata": {},
   "source": [
    "Now we have **train set** consisting of **60%** of the initial data and **validation and test sets** each containing **20%** of the residual data.  \n",
    "  \n",
    "Now we will tokenize and pad the data:"
   ]
  },
  {
   "cell_type": "code",
   "execution_count": 68,
   "metadata": {},
   "outputs": [],
   "source": [
    "x_train_tokenized = headline_tokenizer.texts_to_sequences(x_train)\n",
    "x_train_preprocessed = pad_sequences(x_train_tokenized)\n",
    "\n",
    "x_val_tokenized = headline_tokenizer.texts_to_sequences(x_val)\n",
    "x_val_preprocessed = pad_sequences(x_val_tokenized)\n",
    "\n",
    "x_test_tokenized = headline_tokenizer.texts_to_sequences(x_test)\n",
    "x_test_preprocessed = pad_sequences(x_test_tokenized)"
   ]
  },
  {
   "cell_type": "markdown",
   "metadata": {},
   "source": [
    "And now we save it for later use in neural networks:"
   ]
  },
  {
   "cell_type": "code",
   "execution_count": 69,
   "metadata": {},
   "outputs": [
    {
     "name": "stdout",
     "output_type": "stream",
     "text": [
      "All variables have been successfully saved to ../save_files/processed_data.pkl.\n"
     ]
    }
   ],
   "source": [
    "save_data('../save_files/processed_data.pkl', x_train, y_train, x_val, y_val, x_test, y_test)"
   ]
  }
 ],
 "metadata": {
  "kernelspec": {
   "display_name": "tensorflow-tuner",
   "language": "python",
   "name": "python3"
  },
  "language_info": {
   "codemirror_mode": {
    "name": "ipython",
    "version": 3
   },
   "file_extension": ".py",
   "mimetype": "text/x-python",
   "name": "python",
   "nbconvert_exporter": "python",
   "pygments_lexer": "ipython3",
   "version": "3.10.0"
  }
 },
 "nbformat": 4,
 "nbformat_minor": 2
}
